{
 "cells": [
  {
   "cell_type": "markdown",
   "metadata": {},
   "source": [
    "This is vignere ciphere program using class\n",
    "\n",
    "what is vigere cipher? \n",
    "\n",
    "https://en.wikipedia.org/wiki/Vigen%C3%A8re_cipher"
   ]
  },
  {
   "cell_type": "code",
   "execution_count": null,
   "metadata": {},
   "outputs": [],
   "source": [
    "class Vignere:\n",
    "    def __init__(self, message, keyword):\n",
    "        self.__message = message\n",
    "        self.__keyword = keyword\n",
    "        self.__translated = \"\"\n",
    "\n",
    "    __alphabet = \"abcdefghijklmnopqrstuvwxyz\"\n",
    "    __alphabet_2 = \"ABCDEFGHIJKLMNOPQRSTUVWXYZ\"\n",
    "\n",
    "    def decipher(self):\n",
    "        repeated_keyword = \"\"\n",
    "        while len(repeated_keyword) < len(self.__message):\n",
    "            repeated_keyword += self.__keyword\n",
    "        keyword_final = repeated_keyword[0:len(self.__message)]\n",
    "        # print(len(keyword_final))\n",
    "        for i in range(0, len(self.__message)):\n",
    "            if self.__message[i] in self.__alphabet:\n",
    "                index_offset = self.__alphabet.find(self.__message[i]) - self.__alphabet.find(keyword_final[i])\n",
    "                for_safety = index_offset % 26\n",
    "                self.__translated  += self.__alphabet[for_safety]\n",
    "            elif self.__message[i] in self.__alphabet_2:\n",
    "                index_offset = self.__alphabet_2.find(self.__message[i]) - self.__alphabet.find(keyword_final[i])\n",
    "                for_safety = index_offset % 26\n",
    "                self.__translated += self.__alphabet_2[for_safety]\n",
    "            else:\n",
    "                self.__translated += self.__message[i]\n",
    "        return self.__translated\n",
    "\n",
    "    def cipher(self):\n",
    "        repeated_keyword = \"\"\n",
    "        while len(repeated_keyword) < len(self.__message):\n",
    "            repeated_keyword += self.__keyword\n",
    "        keyword_final = repeated_keyword[0:len(self.__message)]\n",
    "        # print(len(keyword_final))\n",
    "        for i in range(0, len(self.__message)):\n",
    "            if self.__message[i] in self.__alphabet:\n",
    "                index_offset = self.__alphabet.find(self.__message[i]) + self.__alphabet.find(keyword_final[i])\n",
    "                for_safety = index_offset % 26\n",
    "                self.__translated  += self.__alphabet[for_safety]\n",
    "            elif self.__message[i] in self.__alphabet_2:\n",
    "                index_offset = self.__alphabet_2.find(self.__message[i]) + self.__alphabet.find(keyword_final[i])\n",
    "                for_safety = index_offset % 26\n",
    "                self.__translated += self.__alphabet_2[for_safety]\n",
    "            else:\n",
    "                self.__translated += self.__message[i]\n",
    "        return self.__translated\n",
    "\n",
    "def decipher_prompt():\n",
    "    a = input(\"PLease enter message: \")\n",
    "    b = input(\"Please enter keyword: \")\n",
    "    decipher = Vignere(a, b)\n",
    "    print(decipher.decipher())\n",
    "\n",
    "def cipher_prompt():\n",
    "    a = input(\"PLease enter message: \")\n",
    "    b = input(\"Please enter keyword: \")\n",
    "    cipher = Vignere(a, b)\n",
    "    print(cipher.cipher())\n",
    "decipher_prompt()"
   ]
  },
  {
   "cell_type": "code",
   "execution_count": null,
   "metadata": {},
   "outputs": [],
   "source": []
  },
  {
   "cell_type": "code",
   "execution_count": null,
   "metadata": {},
   "outputs": [],
   "source": []
  },
  {
   "cell_type": "code",
   "execution_count": null,
   "metadata": {},
   "outputs": [],
   "source": []
  },
  {
   "cell_type": "code",
   "execution_count": null,
   "metadata": {},
   "outputs": [],
   "source": []
  },
  {
   "cell_type": "code",
   "execution_count": null,
   "metadata": {},
   "outputs": [],
   "source": []
  },
  {
   "cell_type": "code",
   "execution_count": null,
   "metadata": {},
   "outputs": [],
   "source": []
  },
  {
   "cell_type": "code",
   "execution_count": null,
   "metadata": {},
   "outputs": [],
   "source": []
  }
 ],
 "metadata": {
  "kernelspec": {
   "display_name": "Python 3",
   "language": "python",
   "name": "python3"
  },
  "language_info": {
   "codemirror_mode": {
    "name": "ipython",
    "version": 3
   },
   "file_extension": ".py",
   "mimetype": "text/x-python",
   "name": "python",
   "nbconvert_exporter": "python",
   "pygments_lexer": "ipython3",
   "version": "3.8.2"
  }
 },
 "nbformat": 4,
 "nbformat_minor": 4
}
