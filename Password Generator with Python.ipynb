{
 "cells": [
  {
   "cell_type": "markdown",
   "metadata": {},
   "source": [
    "Python Password Generator\n",
    "below is password generator program that will generate random password for user"
   ]
  },
  {
   "cell_type": "code",
   "execution_count": null,
   "metadata": {},
   "outputs": [],
   "source": [
    "import random\n",
    "import string\n",
    "#two comment below is nltk module (natural language processing toolkit) we first have to download it for first time use\n",
    "#import nltk\n",
    "#nltk.download('words')\n",
    "from nltk.corpus import words #this is natural language processing toolkit, we use this to get all words in english dictionary\n",
    "def passwordgen():\n",
    "    all_english_characters = string.ascii_letters + string.digits + string.punctuation\n",
    "    all_english_words = words.words()\n",
    "    all_english_characters_for_medium = string.ascii_letters + string.digits\n",
    "    password_strenght= input(\"How strong you want your password? (Choose between weak, medium, and strong): \")\n",
    "    while password_strenght.lower() not in ['weak', 'medium', 'strong']:\n",
    "        print(\"please only choose one option, either weak, medium or strong\")\n",
    "        password_strenght= input(\"How strong you want your password? (Choose between weak, medium, and strong): \")\n",
    "    if password_strenght == 'weak':\n",
    "        passord_weak = \"\".join(random.choices(all_english_words, k=2))\n",
    "        while len(passord_weak) < 8:\n",
    "            passord_weak = \"\".join(random.choices(all_english_words, k=2))\n",
    "        return passord_weak\n",
    "    length_password = int(input(\"How many Characters in your password ? (remember minimum char is 8 & input integer only): \"))\n",
    "    while length_password < 8:\n",
    "        print(\"Password length must be more than 8 digits, please input the correct integer number\")\n",
    "        length_password = int(input(\"How many Characters in your password ? (remember minimum char is 8 & input integer only): \"))\n",
    "    if password_strenght == 'medium':\n",
    "        return \"\".join(random.choices(all_english_characters_for_medium, k=length_password))\n",
    "    if password_strenght == 'strong':\n",
    "        return \"\".join(random.choices(all_english_characters, k=length_password))\n",
    "        \n",
    "        \n",
    "print(passwordgen())"
   ]
  }
 ],
 "metadata": {
  "kernelspec": {
   "display_name": "Python 3",
   "language": "python",
   "name": "python3"
  },
  "language_info": {
   "codemirror_mode": {
    "name": "ipython",
    "version": 3
   },
   "file_extension": ".py",
   "mimetype": "text/x-python",
   "name": "python",
   "nbconvert_exporter": "python",
   "pygments_lexer": "ipython3",
   "version": "3.8.2"
  }
 },
 "nbformat": 4,
 "nbformat_minor": 4
}
