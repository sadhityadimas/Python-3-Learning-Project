{
 "cells": [
  {
   "cell_type": "markdown",
   "metadata": {},
   "source": [
    "#Guessing Game\n",
    "Credit goes to practicepython.org\n",
    "exercise number 25\n",
    "link : https://www.practicepython.org/exercise/2015/11/01/25-guessing-game-two.html\n",
    "\n",
    "You, the user, will have in your head a number between 0 and 100.\n",
    "The program will guess a number, and you, the user, will say whether it is too high, too low, or your number.\n",
    "\n",
    "At the end of this exchange, your program should print out how many guesses it took to get your number.\n",
    "\n",
    "As the writer of this program, you will have to choose how your program will strategically guess.\n",
    " A naive strategy can be to simply start the guessing at 1, and keep going (2, 3, 4, etc.) until you hit the number.\n",
    " But that’s not an optimal guessing strategy. An alternate strategy might be to guess 50 (right in the middle of the range),\n",
    "  and then increase / decrease by 1 as needed. After you’ve written the program,\n",
    " try to find the optimal strategy!\n",
    "\n"
   ]
  },
  {
   "cell_type": "code",
   "execution_count": 2,
   "metadata": {},
   "outputs": [
    {
     "name": "stdout",
     "output_type": "stream",
     "text": [
      "Hey, there i can guess the number you are thinking between 1 and 100!, Want to play? [1]Yes [2]No : 1\n",
      "Nice!, okay the number you are thinking right now is probably 50\n",
      "Is it correct? [1]YES or [2]NO: 2\n",
      "Hmm okay, was the number too big or too small? [1]Too Small [2]Too Big: 2\n",
      "Okay the number you are thinking right now is probably 25\n",
      "Is it correct? [1]YES or [2]NO: 2\n",
      "Hmm okay, was the number too big or too small? [1]Too Small [2]Too Big: 2\n",
      "Okay the number you are thinking right now is probably 12\n",
      "Is it correct? [1]YES or [2]NO: 2\n",
      "Hmm okay, was the number too big or too small? [1]Too Small [2]Too Big: 1\n",
      "Okay the number you are thinking right now is probably 18\n",
      "Is it correct? [1]YES or [2]NO: 2\n",
      "Hmm okay, was the number too big or too small? [1]Too Small [2]Too Big: 2\n",
      "Okay the number you are thinking right now is probably 15\n",
      "Is it correct? [1]YES or [2]NO: 2\n",
      "Hmm okay, was the number too big or too small? [1]Too Small [2]Too Big: 1\n",
      "Okay the number you are thinking right now is probably 16\n",
      "Is it correct? [1]YES or [2]NO: 2\n",
      "Hmm okay, was the number too big or too small? [1]Too Small [2]Too Big: 1\n",
      "Okay the number you are thinking right now is probably 17\n",
      "Is it correct? [1]YES or [2]NO: 1\n",
      "Nice it's 17!. Okay it only takes me 6 tries but i guess correctly!. THANKS for Playing\n"
     ]
    }
   ],
   "source": [
    "\"I use binary search algorithm\"\n",
    "def guess_me():\n",
    "    list_of_number = range(1, 101)\n",
    "    middle_element_index = (len(list_of_number)//2)-1\n",
    "    #print(list_of_number[middle_element_index])\n",
    "    a= input(\"Hey, there i can guess the number you are thinking between 1 and 100!, Want to play? [1]Yes [2]No : \")\n",
    "    if a == \"2\":\n",
    "        print(\"Well moving on then\")\n",
    "        return\n",
    "    print(f\"Nice!, okay the number you are thinking right now is probably 50\")\n",
    "    answer = input(\"Is it correct? [1]YES or [2]NO: \")\n",
    "    if answer == \"1\":\n",
    "        print(\"Hot Damn! i'm SMART!, THANKS FOR PLAYING!\")\n",
    "        return\n",
    "    list_of_number = range(1, 101)\n",
    "    middle_element_index = len(list_of_number) // 2 - 1\n",
    "    step = 0\n",
    "    while answer == \"2\":\n",
    "        step += 1\n",
    "        guesst = input(\"Hmm okay, was the number too big or too small? [1]Too Small [2]Too Big: \")\n",
    "        if guesst == \"1\":\n",
    "            list_of_number = list_of_number[middle_element_index+1:]\n",
    "            #print(list_of_number)\n",
    "        elif guesst == \"2\":\n",
    "            list_of_number = list_of_number[: middle_element_index]\n",
    "            #print(list_of_number)\n",
    "        if len(list_of_number)%2==0:\n",
    "            middle_element_index = (len(list_of_number) // 2) - 1\n",
    "        elif len(list_of_number)%2!=0:\n",
    "            middle_element_index = (len(list_of_number) // 2)\n",
    "        print(f\"Okay the number you are thinking right now is probably {list_of_number[middle_element_index]}\")\n",
    "        #print(middle_element_index)\n",
    "        answer = input(\"Is it correct? [1]YES or [2]NO: \")\n",
    "    print(f\"Nice it's {list_of_number[middle_element_index]}!. Okay it only takes me {step} tries but i guess correctly!. THANKS for Playing\")\n",
    "guess_me()"
   ]
  }
 ],
 "metadata": {
  "kernelspec": {
   "display_name": "Python 3",
   "language": "python",
   "name": "python3"
  },
  "language_info": {
   "codemirror_mode": {
    "name": "ipython",
    "version": 3
   },
   "file_extension": ".py",
   "mimetype": "text/x-python",
   "name": "python",
   "nbconvert_exporter": "python",
   "pygments_lexer": "ipython3",
   "version": "3.7.4"
  }
 },
 "nbformat": 4,
 "nbformat_minor": 2
}
