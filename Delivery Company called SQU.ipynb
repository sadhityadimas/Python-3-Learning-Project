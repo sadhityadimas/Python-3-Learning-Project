{
 "cells": [
  {
   "cell_type": "markdown",
   "metadata": {},
   "source": [
    "# DELIVERY COMPANY PROJECT\n",
    "\n",
    "Hello, if you are now learning python, and thinking that learning synatax and semantics is not enough, you are correct!. One of the best learning method is by doing project that will put your knowledge in python against a real world problem. let's test those skill.\n",
    "\n",
    "Okay, first let's think that you are a recently hired junior programmer in a big delivery company called SuperQUickDeliveru or SQU.\n",
    "\n",
    "the company has a small problem regarding their customer and delivery service method. \n",
    "\n",
    "what is the problem?, well, their competitor recently put a new system where the customer \n",
    "\n",
    "now SQU wants you to create a better system by putting a new program on their web and branch counter.\n",
    "\n",
    "this program will choose a suitable deivery service method for the customer based on their package weight.\n",
    "\n",
    "quite simple isn't it? of course everyday problem is not always difficult to solve. \n",
    "\n",
    "oky first STEP:\n",
    "\n",
    "1. Create a print function that will great customer. any simple greeting will do\n",
    "2. run all cell to check if everything is fine\n",
    "\n"
   ]
  },
  {
   "cell_type": "code",
   "execution_count": 1,
   "metadata": {},
   "outputs": [
    {
     "name": "stdout",
     "output_type": "stream",
     "text": [
      "Hello Dear Customer!, Welcome to SuperQUickDelivery!. We take good care of your package\n"
     ]
    }
   ],
   "source": [
    "print(\"Hello Dear Customer!, Welcome to SuperQUickDelivery!. We take good care of your package\")"
   ]
  },
  {
   "cell_type": "markdown",
   "metadata": {},
   "source": [
    "Okay good. everything seems to work just fine.\n",
    "SQU has 4 delivery service method; Regular Method, Quick Method, Next Day Service, and The Newest Drone Method (just like the amazon!)\n",
    "\n",
    "here is the Price of each method based on their weight and price \n",
    "\n",
    "1. Regular Method\n",
    "\n"
   ]
  }
 ],
 "metadata": {
  "kernelspec": {
   "display_name": "Python 3",
   "language": "python",
   "name": "python3"
  },
  "language_info": {
   "codemirror_mode": {
    "name": "ipython",
    "version": 3
   },
   "file_extension": ".py",
   "mimetype": "text/x-python",
   "name": "python",
   "nbconvert_exporter": "python",
   "pygments_lexer": "ipython3",
   "version": "3.7.3"
  }
 },
 "nbformat": 4,
 "nbformat_minor": 2
}
