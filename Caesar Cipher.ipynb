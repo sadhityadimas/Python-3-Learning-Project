{
 "cells": [
  {
   "cell_type": "code",
   "execution_count": null,
   "metadata": {},
   "outputs": [],
   "source": [
    "This is Caesar Cipher program using Class\n",
    "\n",
    "What is Caesar Cipher?\n",
    "\n",
    "https://en.wikipedia.org/wiki/Caesar_cipher"
   ]
  },
  {
   "cell_type": "code",
   "execution_count": null,
   "metadata": {},
   "outputs": [],
   "source": [
    "class DeAndCipher:\n",
    "    __alphabet = \"abcdefghijklmnopqrstuvwxyz\"\n",
    "    __alphabet_2 = \"ABCDEFGHIJKLMNOPQRSTUVWXYZ\"\n",
    "    def __init__(self, message, offset):\n",
    "        self.__message = message\n",
    "        self.__offset = offset\n",
    "        self.__real_message = \"\"\n",
    "    def decipher(self):\n",
    "        for i in self.__message:\n",
    "            if type(i) == int:\n",
    "                self.__real_message += i + self.__offset\n",
    "            else:\n",
    "                if i in self.__alphabet:\n",
    "                    find_the_index = self.__alphabet.find(i)\n",
    "                    the_decipher_index = find_the_index + self.__offset\n",
    "                    for_safety_if_the_index_is_more_than_26 = the_decipher_index % 26\n",
    "                    self.__real_message += self.__alphabet[for_safety_if_the_index_is_more_than_26]\n",
    "                elif i in self.__alphabet_2:\n",
    "                    find_the_index = self.__alphabet_2.find(i)\n",
    "                    the_decipher_index = find_the_index + self.__offset\n",
    "                    for_safety_if_the_index_is_more_than_26 = the_decipher_index % 26\n",
    "                    self.__real_message += self.__alphabet_2[for_safety_if_the_index_is_more_than_26]\n",
    "                else:\n",
    "                    self.__real_message += i\n",
    "        return self.__real_message\n",
    "    def cipher(self):\n",
    "        for i in self.__message:\n",
    "            if type(i) == int:\n",
    "                self.__real_message += i - self.__offset\n",
    "            else:\n",
    "                if i in self.__alphabet:\n",
    "                    find_the_index = self.__alphabet.find(i)\n",
    "                    the_decipher_index = find_the_index - self.__offset\n",
    "                    for_safety_if_the_index_is_more_than_26 = the_decipher_index % 26\n",
    "                    self.__real_message += self.__alphabet[for_safety_if_the_index_is_more_than_26]\n",
    "                elif i in self.__alphabet_2:\n",
    "                    find_the_index = self.__alphabet_2.find(i)\n",
    "                    the_decipher_index = find_the_index - self.__offset\n",
    "                    for_safety_if_the_index_is_more_than_26 = the_decipher_index % 26\n",
    "                    self.__real_message += self.__alphabet_2[for_safety_if_the_index_is_more_than_26]\n",
    "                else:\n",
    "                    self.__real_message += i\n",
    "        return self.__real_message"
   ]
  },
  {
   "cell_type": "code",
   "execution_count": null,
   "metadata": {},
   "outputs": [],
   "source": [
    "def the_prompt_decipher():\n",
    "    a = input(\"Please input Message you want to dechiper: \")\n",
    "    b = int(input(\"Please input offset: \"))\n",
    "    while b > 26:\n",
    "        print(\"The offset must be between 1 and 26\")\n",
    "        b = int(input(\"Please input offset: \"))\n",
    "    Decipher_message = DeAndCipher(a, b)\n",
    "    print(Decipher_message.decipher())\n",
    "\n",
    "def the_prompt_cipher():\n",
    "    a = input(\"Please input Message you want to cipher: \")\n",
    "    b = int(input(\"Please input offset: \"))\n",
    "    while b > 26:\n",
    "        print(\"The offset must be between 1 and 26\")\n",
    "        b = int(input(\"Please input offset: \"))\n",
    "    Cipher_message = DeAndCipher(a, b)\n",
    "    print(Cipher_message.cipher())\n",
    "\n",
    "the_prompt_decipher()"
   ]
  },
  {
   "cell_type": "code",
   "execution_count": null,
   "metadata": {},
   "outputs": [],
   "source": []
  },
  {
   "cell_type": "code",
   "execution_count": null,
   "metadata": {},
   "outputs": [],
   "source": []
  },
  {
   "cell_type": "code",
   "execution_count": null,
   "metadata": {},
   "outputs": [],
   "source": []
  }
 ],
 "metadata": {
  "kernelspec": {
   "display_name": "Python 3",
   "language": "python",
   "name": "python3"
  },
  "language_info": {
   "codemirror_mode": {
    "name": "ipython",
    "version": 3
   },
   "file_extension": ".py",
   "mimetype": "text/x-python",
   "name": "python",
   "nbconvert_exporter": "python",
   "pygments_lexer": "ipython3",
   "version": "3.8.2"
  }
 },
 "nbformat": 4,
 "nbformat_minor": 4
}
